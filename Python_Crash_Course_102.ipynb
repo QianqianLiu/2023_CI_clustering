{
  "cells": [
    {
      "cell_type": "markdown",
      "metadata": {
        "id": "view-in-github",
        "colab_type": "text"
      },
      "source": [
        "<a href=\"https://colab.research.google.com/github/QianqianLiu/2023_CI_clustering/blob/master/Python_Crash_Course_102.ipynb\" target=\"_parent\"><img src=\"https://colab.research.google.com/assets/colab-badge.svg\" alt=\"Open In Colab\"/></a>"
      ]
    },
    {
      "cell_type": "markdown",
      "metadata": {
        "id": "xhA-mvaU8zeJ"
      },
      "source": [
        " Python Crash Course 102: Control Flow and Data Structures\n",
        "\n",
        " This notebook is based on [Python Crash Course Book](http://ehmatthes.github.io/pcc/cheatsheets/README.html) by [Eric Matthes](https://github.com/ehmatthes) which is free through [UNCW library](https://libcat.uncw.edu/search~S4?/X(python+crash+course)&searchscope=4&SORT=D&m=a&m=c&m=h&b=wg&b=wj&b=wr&b=wf&b=wh&b=wb&b=wc&b=we&b=wi&b=wl&b=wn&b=ws&b=wu&b=wv&b=eb/X(python+crash+course)&searchscope=4&SORT=D&m=a&m=c&m=h&b=wg&b=wj&b=wr&b=wf&b=wh&b=wb&b=wc&b=we&b=wi&b=wl&b=wn&b=ws&b=wu&b=wv&b=eb&SUBKEY=(python+crash+course)/1%2C4%2C4%2CB/frameset&FF=X(python+crash+course)&searchscope=4&SORT=D&m=a&m=c&m=h&b=wg&b=wj&b=wr&b=wf&b=wh&b=wb&b=wc&b=we&b=wi&b=wl&b=wn&b=ws&b=wu&b=wv&b=eb&1%2C1%2C)"
      ]
    },
    {
      "cell_type": "markdown",
      "metadata": {
        "id": "b-V_TFDX8zeN"
      },
      "source": [
        "# <font color=\"blue\">Table of Contents</font>\n",
        "\n",
        "## Control Flow\n",
        "1. If Statements\n",
        "    * Exercises\n",
        "2. While Statements\n",
        "    * Exercises\n",
        "3. For Loop Statements\n",
        "    * Exercises\n",
        "4. Break & Continue Statements\n",
        "    * Exercises\n",
        "5. Try & Except Statements\n",
        "    * Exercises\n",
        "\n",
        "## Data Structures\n",
        "1. Lists\n",
        "    * Built-in Functions\n",
        "    * Exercises\n",
        "2. Tuples\n",
        "    * Exercises\n",
        "3. Dictionary\n",
        "    * Built-in Functions\n",
        "    * Exercises\n",
        "4. Sets\n",
        "    * Built-in Functions\n",
        "    * Exercises"
      ]
    },
    {
      "cell_type": "markdown",
      "metadata": {
        "id": "0bKm9AJk8zeO"
      },
      "source": [
        "# <font color=\"red\">I. Control Flow </font>"
      ]
    },
    {
      "cell_type": "markdown",
      "metadata": {
        "id": "IC_O2Abu8zeO"
      },
      "source": [
        "Python executes code in an exact top-down order.\n",
        "\n",
        "To make the program take different decisions based on different situations, you can use control flow statements.\n",
        "\n",
        "A program’s control flow is the order in which the program’s code executes. The control flow of a Python program is regulated by conditional statements, loops, and function calls."
      ]
    },
    {
      "cell_type": "markdown",
      "metadata": {
        "id": "e0aFGX8I8zeP"
      },
      "source": [
        "## 1.1 If Statements\n",
        "\n",
        "\n",
        "The if statement is used to check for a condition. If true, the block of code runs. <br>\n",
        "\n",
        "We can also use an __else statement__ to run if the if condition was false. <br>\n",
        "\n",
        "We can chain multiple if and else statements using __elif__.\n",
        "\n",
        "Syntax:\n",
        "\n",
        "\n",
        "\n",
        "```\n",
        "if expression:\n",
        "    statement(s)\n",
        "elif expression:\n",
        "    statement(s)\n",
        "elif expression:\n",
        "    statement(s)\n",
        "...\n",
        "else:\n",
        "    statement(s)\n",
        "```\n",
        "\n",
        "\n",
        "\n",
        "\n",
        "        \n",
        "The __elif__ and __else__ clauses are optional.\n",
        "\n",
        "For example:"
      ]
    },
    {
      "cell_type": "code",
      "execution_count": null,
      "metadata": {
        "id": "4dhMtg6M8zeQ"
      },
      "outputs": [],
      "source": [
        "number = 0\n",
        "if number > 0:\n",
        "    print(\"The number is positive\")\n",
        "elif number == 0:\n",
        "    print(\"The number is zero\")\n",
        "else:\n",
        "    print(\"The number is negative\")"
      ]
    },
    {
      "cell_type": "markdown",
      "source": [
        "**Nested If Statements**"
      ],
      "metadata": {
        "id": "vx8k_cyR5OVe"
      }
    },
    {
      "cell_type": "markdown",
      "source": [
        "* We can add else and elif statements to the inner if statement as required.\n",
        "* We can also insert inner if statement inside the outer else or elif statements(if they exist)\n",
        "* We can nest multiple layers of if statements."
      ],
      "metadata": {
        "id": "XutT4C5m9ma-"
      }
    },
    {
      "cell_type": "code",
      "source": [
        "number = 5\n",
        "\n",
        "# outer if statement\n",
        "if (number >= 0):\n",
        "    # inner if statement\n",
        "    if number == 0:\n",
        "      print('Number is 0')\n",
        "\n",
        "    # inner else statement\n",
        "    else:\n",
        "        print('Number is positive')\n",
        "\n",
        "# outer else statement\n",
        "else:\n",
        "    print('Number is negative')\n",
        "\n",
        "# Output: Number is positive"
      ],
      "metadata": {
        "id": "Au5HBibn9dn8"
      },
      "execution_count": null,
      "outputs": []
    },
    {
      "cell_type": "markdown",
      "metadata": {
        "id": "6CFgPpzf8zeR"
      },
      "source": [
        "### <font color=\"green\"> Exercise 1: Secret Code </font>\n",
        "Create a secret code checker. <p>\n",
        "\n",
        "Great programmers of any language create pseudo-code of their program before programming. <br>\n",
        "**Here is an example of pseudo-code for this problem:**\n",
        "0. Designate a password or your own secret code.\n",
        "    * This is a variable, called secret_code.\n",
        "1. Ask the user for the secret code.\n",
        "    1. Use input(\"Phrase\") & assign it to a variable, called user_input.\n",
        "2. Check if the user's input matches with the secret code.\n",
        "    1. If it matches, print \"You got it!\"\n",
        "        * Hint: This sounds like an if-statement.\n",
        "    2. If it doesn't match, print \"Guess again!\"\n",
        "        * Hint: This sounds like an else-statement."
      ]
    },
    {
      "cell_type": "markdown",
      "metadata": {
        "id": "QKt7DOyF8zeS"
      },
      "source": [
        "Follow the pseudo-code to check if the person got the secret code!"
      ]
    },
    {
      "cell_type": "code",
      "execution_count": null,
      "metadata": {
        "id": "F_pzZQP-8zeT",
        "colab": {
          "base_uri": "https://localhost:8080/"
        },
        "outputId": "4ffd8d37-5146-4cc5-ad1c-1e741933663d"
      },
      "outputs": [
        {
          "output_type": "stream",
          "name": "stdout",
          "text": [
            "Plz enter your passwordMina2022\n",
            "It is wrong\n"
          ]
        }
      ],
      "source": []
    },
    {
      "cell_type": "markdown",
      "metadata": {
        "id": "msE80gD58zeU"
      },
      "source": [
        "<font color=\"green\">**Checkpoint:** Why did we not need to convert the user_input into a string? How do you know?</font>"
      ]
    },
    {
      "cell_type": "code",
      "execution_count": null,
      "metadata": {
        "id": "j_Bilu-F8zeU"
      },
      "outputs": [],
      "source": []
    },
    {
      "cell_type": "markdown",
      "metadata": {
        "id": "41P5m8ak8zeV"
      },
      "source": [
        "### <font color=\"green\"> Exercise 2: Grading Assignments </font>\n",
        "Create an automatic grader that prints the letter grade for an inputted score.\n",
        "* 0 - 59 = F\n",
        "* 60 - 69 = D\n",
        "* 70 - 79 = C\n",
        "* 80 - 89 = B\n",
        "* 90 - 100 = A"
      ]
    },
    {
      "cell_type": "code",
      "execution_count": null,
      "metadata": {
        "id": "VPaqmfkr8zeW"
      },
      "outputs": [],
      "source": [
        "grade = input(\"Enter a score: \")"
      ]
    },
    {
      "cell_type": "code",
      "execution_count": null,
      "metadata": {
        "id": "IjHZ_pof8zeX"
      },
      "outputs": [],
      "source": [
        "score= int(input(\"enter the score\"))\n",
        "\n",
        "\n"
      ]
    },
    {
      "cell_type": "markdown",
      "metadata": {
        "id": "S-KNBYD78zeX"
      },
      "source": [
        "### <font color=\"green\"> Exercise 3: Crazy Cat Lover </font>\n",
        "Check to see if someone is a crazy cat lover.\n",
        "* If there are more than 3 cats, print \"They are crazy for cats!\".\n",
        "    * Unless they also have a dog, then print \"They love animals!\".\n",
        "* Otherwise print \"They aren't crazy for cats\"."
      ]
    },
    {
      "cell_type": "code",
      "execution_count": null,
      "metadata": {
        "id": "t7pwH4_38zeZ"
      },
      "outputs": [],
      "source": [
        "cats = input(\"Enter number of cats: \")\n",
        "dogs = input(\"Enter number of dogs: \")\n",
        "# your code here"
      ]
    },
    {
      "cell_type": "markdown",
      "metadata": {
        "id": "-c9eFL9v8zeZ"
      },
      "source": [
        "### <font color=\"green\"> Exercise 4: Summer Play </font>\n",
        "The kids by the beach spend most of their day playing, but depends on the weather! <br>\n",
        "Create a code that will tell you if the children are playing. <p>\n",
        "    \n",
        "* If the temperature is between 65 & 90 (inclusively), they are playing.\n",
        "* If it is summertime, the temperature can go up to 100, they are playing.\n",
        "* If they are playing, print True.\n",
        "    * If they are not playing, print False."
      ]
    },
    {
      "cell_type": "code",
      "execution_count": null,
      "metadata": {
        "id": "Qsb8Trir8zea"
      },
      "outputs": [],
      "source": [
        "temperature = input(\"Enter the temperature\")\n",
        "summer = input(\"Enter 1 for summer or 0 for not summer\")\n",
        "# your code here"
      ]
    },
    {
      "cell_type": "markdown",
      "metadata": {
        "id": "SNYlBd5J8zeb"
      },
      "source": [
        "### <font color=\"green\"> Exercise 5: Speeding Ticket </font>\n",
        "You are driving a little too fast and get pulled over by a police officer. <br>\n",
        "Write a code to determine what size ticket you'll get. <p>\n",
        "    \n",
        "* If speed is 65 or less, you will not get a ticket.\n",
        "* If speed is above 65, but below 80, you will get a small ticket.\n",
        "* If your speed is above 80, then you'll get a big ticket.\n",
        "* If it's your birthday though, you get a 5mph break - your speed can be 5 higher than the regular thresholds.\n",
        "    * You will still get a ticket."
      ]
    },
    {
      "cell_type": "code",
      "execution_count": null,
      "metadata": {
        "id": "fqorwGy-8zec"
      },
      "outputs": [],
      "source": [
        "speed = input(\"Enter your speed\")\n",
        "birthday = input(\"Enter 1 if it's your birthday or 0 if it's not\")\n",
        "# your code here"
      ]
    },
    {
      "cell_type": "markdown",
      "metadata": {
        "id": "lWIMhfVb8zec"
      },
      "source": [
        "## 1.2 While Statements\n",
        "\n",
        "\n",
        "The while statement allows you to execute a block of statements multiple times until a condition is met. <p>\n",
        "    \n",
        "**Note**: When using loops you need to be careful to make sure that the condition is eventually met. If the condition is never met then the loop will run forever (or at least until your computer errors out). This is called an __infinite loop__.\n",
        "\n",
        "__Syntax:__\n",
        "    \n",
        "\n",
        "\n",
        "```\n",
        "while expression:\n",
        "    statement(s)\n",
        "```\n",
        "\n",
        "\n",
        "        \n",
        "For example:"
      ]
    },
    {
      "cell_type": "code",
      "execution_count": null,
      "metadata": {
        "id": "xJvj7Jpl8zed"
      },
      "outputs": [],
      "source": [
        "current_number = 1\n",
        "\n",
        "while current_number <= 5:\n",
        "    print('The current number is ' + str(current_number))\n",
        "    current_number += 1\n",
        "else:\n",
        "    print('All done counting!')"
      ]
    },
    {
      "cell_type": "markdown",
      "metadata": {
        "id": "oR8PSQTJ8zed"
      },
      "source": [
        "<font color=\"green\">**Checkpoint**: Why do we need to add one to the current_number each time?</font>"
      ]
    },
    {
      "cell_type": "markdown",
      "source": [],
      "metadata": {
        "id": "vLz6giwq-alZ"
      }
    },
    {
      "cell_type": "markdown",
      "metadata": {
        "id": "Yjzh-Nnc8zed"
      },
      "source": [
        "### <font color=\"green\">Exercise: Use a while loop to print the numbers from 10 to 1. After 1, print \"Blastoff!\"</font>"
      ]
    },
    {
      "cell_type": "code",
      "execution_count": null,
      "metadata": {
        "id": "QImrGgfs8zee"
      },
      "outputs": [],
      "source": []
    },
    {
      "cell_type": "markdown",
      "metadata": {
        "id": "PdWSRJC98zee"
      },
      "source": [
        "### Troubleshoot:\n",
        "\n",
        "**If your while loop is not ending,** In[ ]: keep appearing, then select the **Kernel** from the top bar & select **Restart** to stop the loop. Fix your while loop before running the cell again."
      ]
    },
    {
      "cell_type": "markdown",
      "metadata": {
        "id": "yaC2LlWX8zee"
      },
      "source": [
        "### <font color=\"green\">Exercise: Use a while loop to print all the even numbers from 2 through 20.</font>"
      ]
    },
    {
      "cell_type": "code",
      "execution_count": null,
      "metadata": {
        "id": "TDnoFwJP8zef"
      },
      "outputs": [],
      "source": []
    },
    {
      "cell_type": "markdown",
      "metadata": {
        "id": "nyw77RB28zef"
      },
      "source": [
        "## 1.3 For Loop Statements\n",
        "\n",
        "\n",
        "The for loop is a statement that iterates over each item in a sequence (an ordered collection of items). <br>\n",
        " We can use **i** to access the current item in the sequence.\n",
        "\n",
        "__Syntax:__\n",
        "    \n",
        "\n",
        "\n",
        "```\n",
        "for target in iterable:\n",
        "    statement(s)\n",
        "```\n",
        "\n",
        "\n",
        "\n",
        "For example:"
      ]
    },
    {
      "cell_type": "code",
      "execution_count": null,
      "metadata": {
        "id": "aU01pXEW8zef"
      },
      "outputs": [],
      "source": [
        "for i in range(1,6):\n",
        "    print('The current number is ' + str(i))"
      ]
    },
    {
      "cell_type": "markdown",
      "metadata": {
        "id": "vr8oYbei8zef"
      },
      "source": [
        "<font color=\"green\"> **Checkpoint**: What does the range() function do? When do you think this will be important to use? </font>"
      ]
    },
    {
      "cell_type": "code",
      "execution_count": null,
      "metadata": {
        "id": "rm4gduQy8zeg"
      },
      "outputs": [],
      "source": []
    },
    {
      "cell_type": "markdown",
      "metadata": {
        "id": "ecpyjzuz8zeg"
      },
      "source": [
        "### <font color=\"green\"> Exercise 1: Use a for loop to print the numbers from 10 to 1. After 1, print \"Blastoff!\" </font>"
      ]
    },
    {
      "cell_type": "code",
      "execution_count": null,
      "metadata": {
        "id": "zNZXLArQ8zeg"
      },
      "outputs": [],
      "source": []
    },
    {
      "cell_type": "markdown",
      "metadata": {
        "id": "WlG5wy5C8zeg"
      },
      "source": [
        "### <font color=\"green\"> Exercise 2: Use a for loop to print the odd numbers from 1 through 20. </font>"
      ]
    },
    {
      "cell_type": "code",
      "execution_count": null,
      "metadata": {
        "id": "PkMNxnc18zeg"
      },
      "outputs": [],
      "source": []
    },
    {
      "cell_type": "markdown",
      "metadata": {
        "id": "6t9z-PLX8zeg"
      },
      "source": [
        "<font color=\"green\">**Challenge**: Which method was better for these exercises? The While or the For Loops? </font>"
      ]
    },
    {
      "cell_type": "code",
      "execution_count": null,
      "metadata": {
        "id": "EPURLpUc8zeh"
      },
      "outputs": [],
      "source": []
    },
    {
      "cell_type": "markdown",
      "metadata": {
        "id": "E-TE7Z_G8zeh"
      },
      "source": [
        "## 1.4 Break & Continue Statements\n",
        "\n",
        "There are two useful statements that can be used within loops to fine-tune how they are executed:\n",
        "\n",
        "* The __break__ statement is used to stop the execution of a loop even if the condition has not been met or the sequence of items has not been fully iterated over. When breaking out of a looping statement any remaining statements will not be executed.\n",
        "* The __continue__ statement tells Python to skip the rest of the statements in the current loop block and to continue to the next iteration of the loop.\n",
        "\n",
        "These can be used in both for and while loops.\n",
        "\n",
        "**Examples see below:**"
      ]
    },
    {
      "cell_type": "code",
      "execution_count": null,
      "metadata": {
        "id": "RzClRJYe8zeh"
      },
      "outputs": [],
      "source": [
        "current_number = 1\n",
        "\n",
        "while current_number <= 10:\n",
        "    print(\"The current number is \" + str(current_number))\n",
        "    if current_number ==5:\n",
        "        break\n",
        "    current_number += 1"
      ]
    },
    {
      "cell_type": "code",
      "execution_count": null,
      "metadata": {
        "id": "I_1ZMf5X8zei"
      },
      "outputs": [],
      "source": [
        "#for loop breaking example\n",
        "for i in range(1, 11):\n",
        "    print(\"The current number is \" + str(i))\n",
        "    if i == 5:\n",
        "        break"
      ]
    },
    {
      "cell_type": "markdown",
      "metadata": {
        "id": "NdJdl-wS8zei"
      },
      "source": [
        "<font color=\"green\"> **Checkpoint:** Pick any of the above examples of loops you have done. Create a **break** in your chosen example. </font>"
      ]
    },
    {
      "cell_type": "code",
      "execution_count": null,
      "metadata": {
        "id": "Mr9wh2eR8zei"
      },
      "outputs": [],
      "source": []
    },
    {
      "cell_type": "code",
      "execution_count": null,
      "metadata": {
        "id": "N7FRntCV8zei"
      },
      "outputs": [],
      "source": [
        "# for loop continue example\n",
        "for i in range(1, 11):\n",
        "    if i == 5:\n",
        "        continue\n",
        "    print('The current number is ' + str(i))\n",
        "print(\"We've skipped number 5!\")"
      ]
    },
    {
      "cell_type": "code",
      "execution_count": null,
      "metadata": {
        "id": "d8snvuO98zej"
      },
      "outputs": [],
      "source": [
        "for n in range(20):\n",
        "    # if the remainder of n / 2 is 0, skip the rest of the loop\n",
        "    if n % 2 == 0:\n",
        "        continue\n",
        "    print(n, end=' ')"
      ]
    },
    {
      "cell_type": "markdown",
      "metadata": {
        "id": "BRCPyyvh8zej"
      },
      "source": [
        "<font color=\"green\"> **Checkpoint:** Pick any of the above examples of loops you have done. Create a **continue** in your chosen example. </font>"
      ]
    },
    {
      "cell_type": "code",
      "execution_count": null,
      "metadata": {
        "id": "EIUpEUtM8zek"
      },
      "outputs": [],
      "source": []
    },
    {
      "cell_type": "code",
      "execution_count": null,
      "metadata": {
        "id": "nXv2REyV8zek"
      },
      "outputs": [],
      "source": [
        "for i in range(20, 0, -2):\n",
        "    if i == 4:\n",
        "        break\n",
        "    if i == 12:\n",
        "        continue\n",
        "    print('The current number is ' + str(i))\n",
        "else:\n",
        "    print('Blastoff!')"
      ]
    },
    {
      "cell_type": "markdown",
      "metadata": {
        "id": "MRBJKHpu8zel"
      },
      "source": [
        "<font color=\"green\"> **Challenge**: Pick a different example than what you can picked & create both **a continue & a break** point in the example."
      ]
    },
    {
      "cell_type": "code",
      "execution_count": null,
      "metadata": {
        "id": "PFnGqfV38zel"
      },
      "outputs": [],
      "source": []
    },
    {
      "cell_type": "markdown",
      "metadata": {
        "id": "AWY-lXbk8zem"
      },
      "source": [
        "## 1.5 Try & Except Statements\n",
        "\n",
        "\n",
        "__Exceptions__ occur when exceptional situations, thus the name, like trying to read from a file that doesn't exist, a variable that doesn't exist, or a user input isn't in the correct type. <br>\n",
        "\n",
        "We can handle exceptions with a __try/except__ statement.\n",
        "\n",
        "The basic syntax is:\n",
        "\n",
        "\n",
        "\n",
        "\n",
        "```\n",
        "try:\n",
        "    statement(s)\n",
        "except: [, target]]\n",
        "    statement(s)\n",
        "else:\n",
        "    statement(s)\n",
        "```\n",
        "\n",
        "\n",
        "\n",
        "\n",
        "    \n",
        "The else statement is optional.\n",
        "\n",
        "**Examples see below:**"
      ]
    },
    {
      "cell_type": "code",
      "execution_count": null,
      "metadata": {
        "id": "JD03GU-c8zem"
      },
      "outputs": [],
      "source": [
        "x, y = 5, 0\n",
        "try:\n",
        "    z = x / y\n",
        "except:\n",
        "    print(\"Division by zero!\")\n",
        "else:\n",
        "    print('No division by zero, the result is', z)"
      ]
    },
    {
      "cell_type": "code",
      "execution_count": null,
      "metadata": {
        "id": "24SxlJ-68zem",
        "scrolled": true
      },
      "outputs": [],
      "source": [
        "my_list = [1, 2, 3]\n",
        "try:\n",
        "    my_list[99]\n",
        "except IndexError:\n",
        "    print('index error')\n",
        "except ValueError:\n",
        "    print('value error')"
      ]
    },
    {
      "cell_type": "markdown",
      "metadata": {
        "id": "ypxjRZij8zen"
      },
      "source": [
        "# <font color=\"red\"> II. Data Structures </font>\n",
        "\n",
        "__Data Structures__ are used to store a collection of related data. The built-in data structures in Python are:\n",
        "* List\n",
        "* Tuple\n",
        "* Dictionary\n",
        "* Set"
      ]
    },
    {
      "cell_type": "markdown",
      "metadata": {
        "id": "mmhGUoMp8zen"
      },
      "source": [
        "## 2.1 List\n",
        "\n",
        "\n",
        "A __list__ is a __mutable__ (meaning it can be changed after its creation) data structure which holds a sequence of items in a specific order. <br>\n",
        "\n",
        "Square brackets [ ] are used as the notation for a list. <br>\n",
        "\n",
        "Once a list is created, you can add, remove, or search in the list. <br>\n",
        "\n",
        "The items in the list can be of any type, including other data structures. Duplicated members are allowed. Numbers, strings, lists, tuples, dictionaries, and sets can all be included in a list. <br>\n",
        "\n",
        "The syntax for a list is:\n",
        "\n",
        "\n",
        "__`my_list = ['a', 1, 2.5, [1,2,3], 'etc']`__"
      ]
    },
    {
      "cell_type": "code",
      "execution_count": null,
      "metadata": {
        "colab": {
          "base_uri": "https://localhost:8080/"
        },
        "id": "rd0OWZQY8zen",
        "outputId": "b0e23bc3-b0f0-4a5a-882a-6676e6a6e4fa"
      },
      "outputs": [
        {
          "name": "stdout",
          "output_type": "stream",
          "text": [
            "['a', 1, 2.5, [1, 2, 3], 'etc']\n"
          ]
        }
      ],
      "source": [
        "my_list = ['a', 1, 2.5, [1,2,3], 'etc']\n",
        "print(my_list)"
      ]
    },
    {
      "cell_type": "markdown",
      "metadata": {
        "id": "EeOnvNho8zeo"
      },
      "source": [
        "### 2.1.1 Access Items within the List\n",
        "Access the list items by referring to the index number.\n",
        "**Reminder:** Python is zero-based, which means that the first item in a list is index 0."
      ]
    },
    {
      "cell_type": "code",
      "execution_count": null,
      "metadata": {
        "id": "raA18WQd8zeo"
      },
      "outputs": [],
      "source": [
        "print(my_list[0])\n",
        "print(my_list[3])"
      ]
    },
    {
      "cell_type": "markdown",
      "metadata": {
        "id": "kBwD4e258zeo"
      },
      "source": [
        "You can also index from the back of a list.\n",
        "\n",
        "The index -1 will give the last item in a list & -2 would give the second to last item in a list."
      ]
    },
    {
      "cell_type": "code",
      "execution_count": null,
      "metadata": {
        "id": "kwLEag8i8zep"
      },
      "outputs": [],
      "source": [
        "print(my_list[-1])\n",
        "print(my_list[-2])"
      ]
    },
    {
      "cell_type": "markdown",
      "metadata": {
        "id": "8vViOAk28zep"
      },
      "source": [
        "### 2.1.2 Change Item Value\n",
        "You can update the value of an item in a list by assigning the new value."
      ]
    },
    {
      "cell_type": "code",
      "execution_count": null,
      "metadata": {
        "id": "Aj_r_yUm8zep"
      },
      "outputs": [],
      "source": [
        "my_list[-1] = 'apple'\n",
        "my_list"
      ]
    },
    {
      "cell_type": "markdown",
      "metadata": {
        "id": "9DNNFISl8zeq"
      },
      "source": [
        "### 2.1.3 Add Items\n",
        "Add an item to a list using __append__."
      ]
    },
    {
      "cell_type": "code",
      "execution_count": null,
      "metadata": {
        "id": "7_1HmJxc8zeq"
      },
      "outputs": [],
      "source": [
        "my_list.append('cookies')\n",
        "my_list"
      ]
    },
    {
      "cell_type": "code",
      "execution_count": null,
      "metadata": {
        "id": "l_WOokiTXqT8"
      },
      "outputs": [],
      "source": [
        "my_list.insert('banana')\n",
        "my_list"
      ]
    },
    {
      "cell_type": "markdown",
      "metadata": {
        "id": "MbfGq-J_8zer"
      },
      "source": [
        "### 2.1.4 Remove Item\n",
        "You can remove items from a list using either __del__ or the __remove__ method. <br>\n",
        "\n",
        "You can use `del` if you know the index of the item you want to remove."
      ]
    },
    {
      "cell_type": "code",
      "execution_count": null,
      "metadata": {
        "id": "PvsHlRDR8zer"
      },
      "outputs": [],
      "source": [
        "del my_list[0]\n",
        "print(my_list)"
      ]
    },
    {
      "cell_type": "markdown",
      "metadata": {
        "id": "uZW8yxBY8zer"
      },
      "source": [
        "You can use the `remove` method if you don't know the index of the item you want to remove."
      ]
    },
    {
      "cell_type": "code",
      "execution_count": null,
      "metadata": {
        "id": "EmQBYqfw8zes",
        "colab": {
          "base_uri": "https://localhost:8080/",
          "height": 182
        },
        "outputId": "2988f8a0-a800-48c4-e317-89f5293d1ef8"
      },
      "outputs": [
        {
          "output_type": "error",
          "ename": "NameError",
          "evalue": "ignored",
          "traceback": [
            "\u001b[0;31m---------------------------------------------------------------------------\u001b[0m",
            "\u001b[0;31mNameError\u001b[0m                                 Traceback (most recent call last)",
            "\u001b[0;32m<ipython-input-6-59584d2a39b7>\u001b[0m in \u001b[0;36m<cell line: 1>\u001b[0;34m()\u001b[0m\n\u001b[0;32m----> 1\u001b[0;31m \u001b[0mmy_list\u001b[0m\u001b[0;34m.\u001b[0m\u001b[0mremove\u001b[0m\u001b[0;34m(\u001b[0m\u001b[0;34m'apple'\u001b[0m\u001b[0;34m)\u001b[0m\u001b[0;34m\u001b[0m\u001b[0;34m\u001b[0m\u001b[0m\n\u001b[0m\u001b[1;32m      2\u001b[0m \u001b[0mprint\u001b[0m\u001b[0;34m(\u001b[0m\u001b[0mmy_list\u001b[0m\u001b[0;34m)\u001b[0m\u001b[0;34m\u001b[0m\u001b[0;34m\u001b[0m\u001b[0m\n",
            "\u001b[0;31mNameError\u001b[0m: name 'my_list' is not defined"
          ]
        }
      ],
      "source": [
        "my_list.remove('apple')\n",
        "print(my_list)"
      ]
    },
    {
      "cell_type": "markdown",
      "metadata": {
        "id": "F4HKGN758zes"
      },
      "source": [
        "<font color=\"green\"> **Checkpoint**: When do we use **del** vs when do we use **remove**?</font>"
      ]
    },
    {
      "cell_type": "markdown",
      "source": [],
      "metadata": {
        "id": "c0aoqSbZGUMW"
      }
    },
    {
      "cell_type": "markdown",
      "metadata": {
        "id": "CvSgoAqa8zet"
      },
      "source": [
        "### 2.1.5 Length of List\n",
        "To determine how many items a list has, use the `len()` method."
      ]
    },
    {
      "cell_type": "code",
      "execution_count": null,
      "metadata": {
        "id": "HaMHAdPj8zet"
      },
      "outputs": [],
      "source": [
        "len(my_list)"
      ]
    },
    {
      "cell_type": "markdown",
      "metadata": {
        "id": "12CMn0Zv8zet"
      },
      "source": [
        "### 2.1.6 Sort the List\n",
        "You can sort the items in a list using the __sort__ method.\n",
        "\n",
        "You can reverse the items in a list using the __reverse__ method."
      ]
    },
    {
      "cell_type": "code",
      "execution_count": null,
      "metadata": {
        "colab": {
          "background_save": true
        },
        "id": "B8liafW9X3Nv",
        "outputId": "5ce2cce8-11f0-4118-f9e7-a8bc6eee55cd"
      },
      "outputs": [
        {
          "data": {
            "text/plain": [
              "['sea lion', 'turtle', 'whale']"
            ]
          },
          "execution_count": 4,
          "metadata": {},
          "output_type": "execute_result"
        }
      ],
      "source": [
        "my_list = ['turtle', 'sea lion', 'whale']\n",
        "my_list.sort()\n",
        "my_list"
      ]
    },
    {
      "cell_type": "markdown",
      "source": [
        "The main difference between sort and sorted in Python is that sort function returns nothing and makes changes to the original sequence, while the sorted () function creates a new sequence type containing a sorted version of the given sequence."
      ],
      "metadata": {
        "id": "wapoxY3X-00s"
      }
    },
    {
      "cell_type": "code",
      "execution_count": null,
      "metadata": {
        "id": "dTD_c7L9cCjg",
        "colab": {
          "base_uri": "https://localhost:8080/"
        },
        "outputId": "2a29d3eb-c7a9-4af5-f80e-d80d80f696cc"
      },
      "outputs": [
        {
          "output_type": "stream",
          "name": "stdout",
          "text": [
            "Original List:  [5, 4, 2, 1, 3]\n",
            "List returned from Sorted Method:  [1, 2, 3, 4, 5]\n"
          ]
        },
        {
          "output_type": "execute_result",
          "data": {
            "text/plain": [
              "[1, 2, 3, 4, 5]"
            ]
          },
          "metadata": {},
          "execution_count": 2
        }
      ],
      "source": [
        "list_variable = [5, 4, 2, 1, 3]\n",
        "print(\"Original List: \", list_variable)\n",
        "print(\"List returned from Sorted Method: \", sorted(list_variable))\n",
        "sorted_new_list = sorted(list_variable)"
      ]
    },
    {
      "cell_type": "code",
      "source": [
        "list_variable"
      ],
      "metadata": {
        "id": "Ue-_67CT_ZpY"
      },
      "execution_count": null,
      "outputs": []
    },
    {
      "cell_type": "code",
      "source": [
        "sorted_new_list"
      ],
      "metadata": {
        "id": "HVfy6W8A_aVR"
      },
      "execution_count": null,
      "outputs": []
    },
    {
      "cell_type": "code",
      "execution_count": null,
      "metadata": {
        "id": "oibyU3cN8zet"
      },
      "outputs": [],
      "source": [
        "my_list.reverse()\n",
        "print(my_list)"
      ]
    },
    {
      "cell_type": "markdown",
      "metadata": {
        "id": "em572LIc8zet"
      },
      "source": [
        "### 2.1.7 Loop Through a List\n",
        "You can also iterate over the items in a list. <br>\n",
        "The syntax is:\n",
        "\n",
        "\n",
        "```\n",
        "for item in my_list:\n",
        "    print(item)\n",
        "```\n",
        "\n",
        "\n"
      ]
    },
    {
      "cell_type": "code",
      "execution_count": null,
      "metadata": {
        "id": "5UeYoKRQ8zeu"
      },
      "outputs": [],
      "source": [
        "for item in my_list:\n",
        "    print(item)"
      ]
    },
    {
      "cell_type": "markdown",
      "source": [
        "### 2.1.7 Loop Within an Index\n",
        "You can also iterate over the indices of items in a list. <br>\n",
        "\n"
      ],
      "metadata": {
        "id": "yDy1QxwYASR_"
      }
    },
    {
      "cell_type": "code",
      "source": [
        "my_list = [1, 2, 3, 4, 5]\n",
        "\n",
        "for index in range(len(my_list)):\n",
        "    print(my_list[index])\n"
      ],
      "metadata": {
        "id": "H8X-XWd5A1nq"
      },
      "execution_count": null,
      "outputs": []
    },
    {
      "cell_type": "markdown",
      "metadata": {
        "id": "CfVG_bgq8zeu"
      },
      "source": [
        "### <font color=\"green\"> Exercise 1: Weekends </font>\n",
        "\n",
        "Use a for loop to iterate over the days of the week (hint: save them in a list)! <br>\n",
        "* If the day is a weekend (Saturday or Sunday), print the day and \"A chance to sleep in!\"\n",
        "* If it's a weekday print the day and \"Off to work.\"\n",
        "    * but if it's Friday, you should also print \"Ready for the weekend!\""
      ]
    },
    {
      "cell_type": "code",
      "execution_count": null,
      "metadata": {
        "id": "mLI3e-XG8zeu"
      },
      "outputs": [],
      "source": []
    },
    {
      "cell_type": "markdown",
      "metadata": {
        "id": "JM2ibmjE8zev"
      },
      "source": [
        "### <font color=\"green\"> Exercise 2: Fizz Buzz </font>\n",
        "\n",
        "Use a loop to iterate over the the numbers from 1 to 30. <br>\n",
        "Print each of the numbers, but these criteria:\n",
        "* If the number is a multiple of 3, print Fizz instead.\n",
        "* If the number is a multiple of 5, print Buzz instead.\n",
        "* If the number is a multiple of both 3 and 5, print FizzBuzz instead."
      ]
    },
    {
      "cell_type": "code",
      "execution_count": null,
      "metadata": {
        "id": "al6QGI0G8zev"
      },
      "outputs": [],
      "source": []
    },
    {
      "cell_type": "markdown",
      "metadata": {
        "id": "bxE0ZLv_8zew"
      },
      "source": [
        "## 2.2 Tuples\n",
        "\n",
        "\n",
        "A __tuple__ is an immutable (it cannot be changed after its creation) data structure similar to a list, but with less functionality. <br>\n",
        "\n",
        "A tuple can be represented by a series of items seperated by commas with an optional pair of paranthesis. The preferred method is to use paranthesis."
      ]
    },
    {
      "cell_type": "code",
      "execution_count": null,
      "metadata": {
        "id": "dulCn5K08zew"
      },
      "outputs": [],
      "source": [
        "my_tuple = (2, 3, 4, 'string')\n",
        "print(my_tuple)"
      ]
    },
    {
      "cell_type": "markdown",
      "metadata": {
        "id": "bN5yztJJ8zew"
      },
      "source": [
        "To access a tuple item you would use its index in the same way as a list. <br>\n",
        "For example:\n",
        "\n",
        "__`my_tuple[0]`__"
      ]
    },
    {
      "cell_type": "code",
      "execution_count": null,
      "metadata": {
        "id": "V13ftL_D8zew"
      },
      "outputs": [],
      "source": [
        "my_tuple[0]"
      ]
    },
    {
      "cell_type": "markdown",
      "metadata": {
        "id": "jKt-e_Wb8zew"
      },
      "source": [
        "<font color=\"green\"> **Challenge**: In what scenarios would you use an immutable object like tuples? </font>"
      ]
    },
    {
      "cell_type": "markdown",
      "source": [],
      "metadata": {
        "id": "hGprgcJiHO0W"
      }
    },
    {
      "cell_type": "markdown",
      "metadata": {
        "id": "iKQV6Yyc8zex"
      },
      "source": [
        "## 2.3 Dictionary\n",
        "\n",
        "\n",
        "A __dictionary__ is a way to store key / value pairs. It is a collection which is unordered, changeable and indexed. <br>\n",
        "\n",
        "Dictionaries are commonly used to store multiple details about a piece of data. For example, we might store information about people in a dictionary. <br>\n",
        "\n",
        "**The key** might be their name, and **the value** might be another dictionary with keys and values for their for their occupation, telephone number, family members, etc.\n",
        "\n",
        "__Keys__ must be unique and you can only use immutable objects (like strings), but the __values__ can be any type, including strings, numbers, lists, tuples, and even other dictionaries.\n",
        "\n",
        "Dictionary notation uses curly brackets, the key-value pairs are separated by a colon, and the pairs are separated by commas.\n",
        "\n",
        "The syntax to make a dictionary is:\n",
        "\n",
        "__`myDictionary = {'key1': 'value1', 'key2': 'value2', 'key3': 'value3'}\n",
        "`__"
      ]
    },
    {
      "cell_type": "code",
      "execution_count": null,
      "metadata": {
        "id": "uAjHaAr_8zex"
      },
      "outputs": [],
      "source": [
        "myDictionary = {'key1': 'value1', 'key2': 'value2', 'key3': 'value3'}\n",
        "myDictionary"
      ]
    },
    {
      "cell_type": "markdown",
      "metadata": {
        "id": "nbRv-uhb8zex"
      },
      "source": [
        "### 2.3.1 Accessng Items in List\n",
        "To access a dictionary you use the square bracket notation with the key name."
      ]
    },
    {
      "cell_type": "code",
      "execution_count": null,
      "metadata": {
        "id": "5pth0Yh18zex"
      },
      "outputs": [],
      "source": [
        "myDictionary['key1']"
      ]
    },
    {
      "cell_type": "markdown",
      "metadata": {
        "id": "XWV_jEWa8zey"
      },
      "source": [
        "**But you need to be careful to make sure that the key is in the dictionary;**<br>\n",
        "if the key is not in the dictionary a KeyError will occur."
      ]
    },
    {
      "cell_type": "code",
      "execution_count": null,
      "metadata": {
        "id": "l0ko_TGA8zey"
      },
      "outputs": [],
      "source": [
        "myDictionary['key5']"
      ]
    },
    {
      "cell_type": "markdown",
      "metadata": {
        "id": "TfvbwMbL8zey"
      },
      "source": [
        "### 2.3.2 Check if Key Exists\n",
        "You can catch these errors by first checking if the key is in the dictionary. For example:"
      ]
    },
    {
      "cell_type": "code",
      "execution_count": null,
      "metadata": {
        "id": "YvWaNU--8zey"
      },
      "outputs": [],
      "source": [
        "if 'key4' in myDictionary:\n",
        "    myDictionary['key4']\n",
        "else:\n",
        "    print(\"No key4 in dictionary\")"
      ]
    },
    {
      "cell_type": "code",
      "execution_count": null,
      "metadata": {
        "id": "DlsRmRWZ8zez"
      },
      "outputs": [],
      "source": [
        "'key4' in myDictionary"
      ]
    },
    {
      "cell_type": "markdown",
      "metadata": {
        "id": "ITWlh5rP8zez"
      },
      "source": [
        "### 2.3.3 Adding Items\n",
        "You can add an item to a dictionary using the syntax:"
      ]
    },
    {
      "cell_type": "code",
      "execution_count": null,
      "metadata": {
        "id": "AaJP1Pwc8zez"
      },
      "outputs": [],
      "source": [
        "myDictionary['key4'] = 'value4'"
      ]
    },
    {
      "cell_type": "markdown",
      "metadata": {
        "id": "bb5P8l8i8ze0"
      },
      "source": [
        "### 2.3.4 Updating Values\n",
        "You can change the value of an item that is already in a dictionary:"
      ]
    },
    {
      "cell_type": "code",
      "execution_count": null,
      "metadata": {
        "id": "3nCMJ7x68ze0"
      },
      "outputs": [],
      "source": [
        "myDictionary['key4'] = 'value_number_four'"
      ]
    },
    {
      "cell_type": "markdown",
      "metadata": {
        "id": "hkZMclvb8ze0"
      },
      "source": [
        "### 2.3.5 Removing Items\n",
        "You can delete an item from a dictionary"
      ]
    },
    {
      "cell_type": "code",
      "execution_count": null,
      "metadata": {
        "id": "HkKwO-cG8ze1"
      },
      "outputs": [],
      "source": [
        "del myDictionary['key4']"
      ]
    },
    {
      "cell_type": "markdown",
      "metadata": {
        "id": "27SVbe3Z8ze1"
      },
      "source": [
        "### 2.3.6 Length of a Dictionary\n",
        "Find the count of key-value pairs in the dictionary using the syntax: <br>__`len(myDictionary)`__"
      ]
    },
    {
      "cell_type": "code",
      "execution_count": null,
      "metadata": {
        "id": "vsZhHnXh8ze1"
      },
      "outputs": [],
      "source": [
        "len(myDictionary)"
      ]
    },
    {
      "cell_type": "markdown",
      "metadata": {
        "id": "RNFUpuGz8ze1"
      },
      "source": [
        "### 2.3.7 Loop Through a Dictionary\n",
        "You can iterate over the key-value pairs in the dictionary by using the items() method, which returns a list of tuples in which each tuple is a key-value pair. The syntax is:\n",
        "\n",
        "__`for key, value in myDictionary.items():\n",
        "    print(key, value)`__"
      ]
    },
    {
      "cell_type": "code",
      "execution_count": null,
      "metadata": {
        "id": "QlMbGb7T8ze1"
      },
      "outputs": [],
      "source": [
        "for key, value in myDictionary.items():\n",
        "    print(key, value)"
      ]
    },
    {
      "cell_type": "markdown",
      "metadata": {
        "id": "b2UMNsna8ze2"
      },
      "source": [
        "## 2.4 Set\n",
        "\n",
        "__Sets__ are **unordered** collections of simple objects and are used when the existence of an object in a collection is more important than the order or how many times it occurs. <br>\n",
        "\n",
        "Using sets you can test for membership, find set intersection, etc. *It follows the basic set theory mathematics.*\n",
        "\n",
        "To create a set use the syntax:\n",
        "\n",
        "__`mySet = set([2,1,3,4,4,4,2])\n",
        "`__\n",
        "\n",
        "Note: A set will take a list of objects and it will remove duplicates then sort it."
      ]
    },
    {
      "cell_type": "code",
      "execution_count": null,
      "metadata": {
        "id": "Icuij3Ue8ze2"
      },
      "outputs": [],
      "source": [
        "mySet = set([2,1,3,4,4,2])\n",
        "mySet"
      ]
    },
    {
      "cell_type": "markdown",
      "metadata": {
        "id": "zfagiY_18ze2"
      },
      "source": [
        "### Basic Methods and Built-in Functions for Sets\n",
        "First, create two sets with the following syntax:\n",
        "\n",
        "countries1 = set(['turkey', 'brazil', 'russia', 'india', 'china', 'france'])\n",
        "\n",
        "countries2 = set(['italy', 'france', 'south africa', 'china', 'mongolia'])"
      ]
    },
    {
      "cell_type": "code",
      "execution_count": null,
      "metadata": {
        "id": "KpymqXRX8ze2"
      },
      "outputs": [],
      "source": [
        "countries1 = set(['brazil', 'russia', 'india', 'china', 'france'])\n",
        "countries2 = set(['italy', 'france', 'south africa', 'china', 'mongolia'])"
      ]
    },
    {
      "cell_type": "markdown",
      "metadata": {
        "id": "jOZkf7pn8ze3"
      },
      "source": [
        "You can test for membership of an item in the set using the syntax: <br> __`'france' in countries1`__"
      ]
    },
    {
      "cell_type": "code",
      "execution_count": null,
      "metadata": {
        "id": "Hu02SHFO8ze3"
      },
      "outputs": [],
      "source": [
        "'france' in countries1"
      ]
    },
    {
      "cell_type": "markdown",
      "metadata": {
        "id": "MuEY-ZJa8ze3"
      },
      "source": [
        "You can add items to a set using the syntax: <br>__`countries1.add('australia')`__"
      ]
    },
    {
      "cell_type": "code",
      "execution_count": null,
      "metadata": {
        "id": "7pQTOIcZ8ze3"
      },
      "outputs": [],
      "source": [
        "countries1.add('australia')"
      ]
    },
    {
      "cell_type": "markdown",
      "metadata": {
        "id": "AR9pkhf28ze3"
      },
      "source": [
        "You can remove an item from a set using the syntax: <br> __`countries1.remove('france')`__"
      ]
    },
    {
      "cell_type": "code",
      "execution_count": null,
      "metadata": {
        "id": "JjDUK56d8ze3"
      },
      "outputs": [],
      "source": [
        "countries1.remove('france')"
      ]
    },
    {
      "cell_type": "markdown",
      "metadata": {
        "id": "hN3LgzXV8ze4"
      },
      "source": [
        "You can find the intersection between two sets using the syntax: <br> __`countries1.intersection(countries2)`__"
      ]
    },
    {
      "cell_type": "code",
      "execution_count": null,
      "metadata": {
        "id": "esGy3yES8ze4"
      },
      "outputs": [],
      "source": [
        "countries1.intersection(countries2)"
      ]
    },
    {
      "cell_type": "markdown",
      "metadata": {
        "id": "xYnhqFAf8ze4"
      },
      "source": [
        "You can find the difference between two sets using the syntax: <br> __`countries1.difference(countries2)`__ <br> __`countries2.difference(countries1)`__"
      ]
    },
    {
      "cell_type": "code",
      "execution_count": null,
      "metadata": {
        "id": "Bvc7a2JP8ze4"
      },
      "outputs": [],
      "source": [
        "countries1.difference(countries2)\n",
        "countries2.difference(countries1)"
      ]
    },
    {
      "cell_type": "markdown",
      "metadata": {
        "id": "eTwHE0Nh8ze4"
      },
      "source": [
        "You can find the union between two sets using the syntax: <br>\n",
        "__`countries1.union(countries2)`__"
      ]
    },
    {
      "cell_type": "code",
      "execution_count": null,
      "metadata": {
        "id": "E9u0ssGh8ze4"
      },
      "outputs": [],
      "source": [
        "countries1.union(countries2)"
      ]
    },
    {
      "cell_type": "markdown",
      "metadata": {
        "id": "iN3aNw1c8ze5"
      },
      "source": [
        "We can also represent the above set operations through a symplified syntax as follows: <br>\n",
        "\n",
        "\n",
        "\n",
        "```\n",
        "print('Intersection: ', countries1 & countries2)\n",
        "print('Difference: ', countries1 - countries2)\n",
        "print('Union: ', countries1 | countries2)\n",
        "```\n",
        "\n"
      ]
    },
    {
      "cell_type": "code",
      "execution_count": null,
      "metadata": {
        "id": "1lHCdJoq8ze5"
      },
      "outputs": [],
      "source": [
        "print('Intersection: ', countries1 & countries2)\n",
        "print('Difference: ', countries1 - countries2)\n",
        "print('Union: ', countries1 | countries2)"
      ]
    },
    {
      "cell_type": "markdown",
      "metadata": {
        "id": "ZcUn1CM68ze5"
      },
      "source": [
        "<font color=\"green\">**Checkpoint:** When do you think we will use a set vs a dictionary?</font>"
      ]
    },
    {
      "cell_type": "markdown",
      "source": [],
      "metadata": {
        "id": "DZQfW_RKHjaL"
      }
    }
  ],
  "metadata": {
    "anaconda-cloud": {},
    "colab": {
      "provenance": [],
      "include_colab_link": true
    },
    "kernelspec": {
      "display_name": "Python 3",
      "language": "python",
      "name": "python3"
    },
    "language_info": {
      "codemirror_mode": {
        "name": "ipython",
        "version": 3
      },
      "file_extension": ".py",
      "mimetype": "text/x-python",
      "name": "python",
      "nbconvert_exporter": "python",
      "pygments_lexer": "ipython3",
      "version": "3.7.3"
    }
  },
  "nbformat": 4,
  "nbformat_minor": 0
}